{
  "nbformat": 4,
  "nbformat_minor": 0,
  "metadata": {
    "colab": {
      "provenance": [],
      "authorship_tag": "ABX9TyMHazSfDyCZxlzPH6SArLS6",
      "include_colab_link": true
    },
    "kernelspec": {
      "name": "python3",
      "display_name": "Python 3"
    },
    "language_info": {
      "name": "python"
    }
  },
  "cells": [
    {
      "cell_type": "markdown",
      "metadata": {
        "id": "view-in-github",
        "colab_type": "text"
      },
      "source": [
        "<a href=\"https://colab.research.google.com/github/shiz-107/Machine-Learining/blob/main/Practice_for_supervised_learning_in_ML.ipynb\" target=\"_parent\"><img src=\"https://colab.research.google.com/assets/colab-badge.svg\" alt=\"Open In Colab\"/></a>"
      ]
    },
    {
      "cell_type": "code",
      "execution_count": null,
      "metadata": {
        "colab": {
          "base_uri": "https://localhost:8080/"
        },
        "id": "225mdtSGPjn7",
        "outputId": "021a0d25-483f-46f6-d460-0e384e746baa"
      },
      "outputs": [
        {
          "output_type": "stream",
          "name": "stdout",
          "text": [
            "Model Accuracy: 1.0\n",
            "Predicted Heart Disease for new data:\n",
            "Person 1: Yes\n",
            "Person 2: No\n"
          ]
        }
      ],
      "source": [
        "import pandas as pd\n",
        "from sklearn.model_selection import train_test_split\n",
        "from sklearn.tree import DecisionTreeClassifier\n",
        "from sklearn.metrics import accuracy_score\n",
        "\n",
        "# Step 1: Prepare the data\n",
        "data = {\n",
        "    \"Height (inches)\": [62, 72, 74, 65, 67, 64, 69],\n",
        "    \"Weight (kgs)\": [70, 90, 80, 120, 100, 130, 150],\n",
        "    \"B.P. Sys\": [120, 110, 130, 150, 140, 130, 170],\n",
        "    \"B.P. Dia\": [80, 70, 70, 90, 85, 90, 100],\n",
        "    \"Heart disease\": [\"No\", \"No\", \"No\", \"Yes\", \"Yes\", \"Yes\", \"Yes\"]\n",
        "}\n",
        "\n",
        "# Convert the data into a DataFrame\n",
        "df = pd.DataFrame(data)\n",
        "\n",
        "# Step 2: Split the data into features (X) and labels (y)\n",
        "X = df.drop(columns=[\"Heart disease\"])\n",
        "y = df[\"Heart disease\"]\n",
        "\n",
        "# Step 3: Split the data into training and testing sets\n",
        "X_train, X_test, y_train, y_test = train_test_split(X, y, test_size=0.2, random_state=42)\n",
        "\n",
        "# Step 4: Train a decision tree classifier\n",
        "model = DecisionTreeClassifier()\n",
        "model.fit(X_train, y_train)\n",
        "\n",
        "# Step 5: Evaluate the model\n",
        "y_pred = model.predict(X_test)\n",
        "accuracy = accuracy_score(y_test, y_pred)\n",
        "print(\"Model Accuracy:\", accuracy)\n",
        "\n",
        "# Step 6: Add new (unlabeled) data and predict\n",
        "new_data = pd.DataFrame({\n",
        "    \"Height (inches)\": [66, 74],\n",
        "    \"Weight (kgs)\": [125, 67],\n",
        "    \"B.P. Sys\": [145, 110],\n",
        "    \"B.P. Dia\": [90, 60]\n",
        "})\n",
        "\n",
        "# Predict labels for new data\n",
        "predictions = model.predict(new_data)\n",
        "print(\"Predicted Heart Disease for new data:\")\n",
        "for i, pred in enumerate(predictions):\n",
        "    print(f\"Person {i + 1}: {pred}\")\n",
        "\n",
        "# Optional: Save the dataset for future use\n",
        "df.to_csv(\"heart_disease_data.csv\", index=False)\n"
      ]
    }
  ]
}